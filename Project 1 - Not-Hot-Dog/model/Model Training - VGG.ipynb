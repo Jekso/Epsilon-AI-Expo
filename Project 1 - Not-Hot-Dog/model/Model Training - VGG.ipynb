{
 "cells": [
  {
   "cell_type": "markdown",
   "metadata": {},
   "source": [
    "# Hotdog-OR-Not-Hotdog\n",
    "\n",
    "<br>\n",
    "\n",
    "<img src='https://miro.medium.com/max/650/1*ubJ-RF8CKGvjckDEICsxsQ.png'>\n",
    "\n",
    "<br>\n",
    "\n",
    "<blockquote style='text-align: left;'>\"What would you say if I told you there is a app on the market that tell you if you have a hotdog or not a hotdog?\"  -Jian-YangNot-Hot-Dog</blockquote>\n",
    " \n",
    "<br>\n",
    "\n",
    "This is a deep learning model code to train a model to classify hot dog images from not hot dog image based on the populer TV series silicon valley scence.\n",
    "watch freom here: https://www.youtube.com/watch?v=pqTntG1RXSY&feature=youtu.be\n",
    "\n",
    "<br>"
   ]
  },
  {
   "cell_type": "markdown",
   "metadata": {},
   "source": [
    "## Import Libraries"
   ]
  },
  {
   "cell_type": "code",
   "execution_count": 1,
   "metadata": {},
   "outputs": [],
   "source": [
    "import tensorflow as tf\n",
    "from tensorflow.keras.preprocessing.image import ImageDataGenerator\n",
    "from tensorflow.keras.applications import VGG19\n",
    "from tensorflow.keras.applications.vgg19 import preprocess_input\n",
    "from tensorflow.keras.layers import Dense, Flatten, Dropout, Activation, BatchNormalization\n",
    "from tensorflow.keras.models import Model, Sequential\n",
    "from tensorflow.keras.callbacks import ModelCheckpoint\n",
    "from tensorflow.keras.optimizers import Adam"
   ]
  },
  {
   "cell_type": "markdown",
   "metadata": {},
   "source": [
    "## Load data"
   ]
  },
  {
   "cell_type": "code",
   "execution_count": 2,
   "metadata": {},
   "outputs": [
    {
     "name": "stdout",
     "output_type": "stream",
     "text": [
      "Found 2000 images belonging to 2 classes.\n",
      "Found 785 images belonging to 2 classes.\n"
     ]
    }
   ],
   "source": [
    "image_width, image_height = 150, 150\n",
    "\n",
    "train_datagen = ImageDataGenerator(\n",
    "      rotation_range=30,\n",
    "      shear_range=0.3,\n",
    "      zoom_range=0.3,\n",
    "      width_shift_range=0.4,\n",
    "      height_shift_range=0.4,\n",
    "      horizontal_flip=True,\n",
    "      fill_mode='nearest',\n",
    "      preprocessing_function=preprocess_input)\n",
    "\n",
    "test_datagen = ImageDataGenerator(preprocessing_function=preprocess_input)\n",
    "\n",
    "train_generator = train_datagen.flow_from_directory(\n",
    "                    \"../dataset/train/\",\n",
    "                    batch_size=128,\n",
    "                    class_mode='binary',\n",
    "                    shuffle=True,\n",
    "                    target_size=(image_width, image_height)\n",
    ")     \n",
    "\n",
    "test_generator =  test_datagen.flow_from_directory(\n",
    "                    \"../dataset/test/\",\n",
    "                    batch_size=128,\n",
    "                    class_mode='binary',\n",
    "                    shuffle=True,\n",
    "                    target_size=(image_width, image_height)\n",
    ")"
   ]
  },
  {
   "cell_type": "code",
   "execution_count": 3,
   "metadata": {},
   "outputs": [
    {
     "name": "stdout",
     "output_type": "stream",
     "text": [
      "15\n",
      "6\n"
     ]
    }
   ],
   "source": [
    "train_steps = train_generator.n // train_generator.batch_size\n",
    "test_steps = test_generator.n // test_generator.batch_size\n",
    "print(train_steps)\n",
    "print(test_steps)"
   ]
  },
  {
   "cell_type": "markdown",
   "metadata": {},
   "source": [
    "## Fine Tuning with VGG16 Model"
   ]
  },
  {
   "cell_type": "code",
   "execution_count": 4,
   "metadata": {},
   "outputs": [],
   "source": [
    "vgg_conv = VGG19(weights='imagenet', include_top=False, input_shape=(image_width, image_height, 3))"
   ]
  },
  {
   "cell_type": "code",
   "execution_count": 5,
   "metadata": {},
   "outputs": [],
   "source": [
    "for layers in (vgg_conv.layers)[:-4]:\n",
    "    layers.trainable = False"
   ]
  },
  {
   "cell_type": "code",
   "execution_count": 6,
   "metadata": {},
   "outputs": [
    {
     "name": "stdout",
     "output_type": "stream",
     "text": [
      "Model: \"sequential\"\n",
      "_________________________________________________________________\n",
      "Layer (type)                 Output Shape              Param #   \n",
      "=================================================================\n",
      "vgg19 (Model)                (None, 4, 4, 512)         20024384  \n",
      "_________________________________________________________________\n",
      "flatten (Flatten)            (None, 8192)              0         \n",
      "_________________________________________________________________\n",
      "dense (Dense)                (None, 64)                524288    \n",
      "_________________________________________________________________\n",
      "batch_normalization (BatchNo (None, 64)                256       \n",
      "_________________________________________________________________\n",
      "activation (Activation)      (None, 64)                0         \n",
      "_________________________________________________________________\n",
      "dropout (Dropout)            (None, 64)                0         \n",
      "_________________________________________________________________\n",
      "dense_1 (Dense)              (None, 1)                 65        \n",
      "=================================================================\n",
      "Total params: 20,548,993\n",
      "Trainable params: 7,603,905\n",
      "Non-trainable params: 12,945,088\n",
      "_________________________________________________________________\n"
     ]
    }
   ],
   "source": [
    "model = Sequential()\n",
    "\n",
    "# Add the vgg convolutional base model\n",
    "model.add(vgg_conv)\n",
    "\n",
    "# Add new layers\n",
    "model.add(Flatten())\n",
    "\n",
    "model.add(Dense(64, use_bias=False))\n",
    "model.add(BatchNormalization())\n",
    "model.add(Activation('relu'))\n",
    "model.add(Dropout(0.3))\n",
    "\n",
    "model.add(Dense(1, activation='sigmoid'))\n",
    "\n",
    "model.summary()"
   ]
  },
  {
   "cell_type": "code",
   "execution_count": 7,
   "metadata": {},
   "outputs": [],
   "source": [
    "model.compile(loss='binary_crossentropy', optimizer=Adam(0.00001), metrics=['accuracy'])"
   ]
  },
  {
   "cell_type": "markdown",
   "metadata": {},
   "source": [
    "## Train model"
   ]
  },
  {
   "cell_type": "code",
   "execution_count": 8,
   "metadata": {},
   "outputs": [],
   "source": [
    "checkpointer = ModelCheckpoint(filepath='vgg_model.h5', verbose=1, save_best_only=True)"
   ]
  },
  {
   "cell_type": "code",
   "execution_count": 9,
   "metadata": {},
   "outputs": [],
   "source": [
    "# model = load_model('vgg_model.h5')"
   ]
  },
  {
   "cell_type": "code",
   "execution_count": 10,
   "metadata": {
    "scrolled": false
   },
   "outputs": [
    {
     "name": "stdout",
     "output_type": "stream",
     "text": [
      "WARNING:tensorflow:sample_weight modes were coerced from\n",
      "  ...\n",
      "    to  \n",
      "  ['...']\n",
      "WARNING:tensorflow:sample_weight modes were coerced from\n",
      "  ...\n",
      "    to  \n",
      "  ['...']\n",
      "Train for 15 steps, validate for 6 steps\n",
      "Epoch 1/100\n",
      "14/15 [===========================>..] - ETA: 1s - loss: 0.7569 - accuracy: 0.5344\n",
      "Epoch 00001: val_loss improved from inf to 0.83956, saving model to vgg_model.h5\n",
      "15/15 [==============================] - 30s 2s/step - loss: 0.7516 - accuracy: 0.5347 - val_loss: 0.8396 - val_accuracy: 0.6393\n",
      "Epoch 2/100\n",
      "14/15 [===========================>..] - ETA: 0s - loss: 0.6378 - accuracy: 0.6445\n",
      "Epoch 00002: val_loss improved from 0.83956 to 0.62308, saving model to vgg_model.h5\n",
      "15/15 [==============================] - 17s 1s/step - loss: 0.6369 - accuracy: 0.6474 - val_loss: 0.6231 - val_accuracy: 0.7083\n",
      "Epoch 3/100\n",
      "14/15 [===========================>..] - ETA: 0s - loss: 0.5728 - accuracy: 0.7070\n",
      "Epoch 00003: val_loss improved from 0.62308 to 0.56116, saving model to vgg_model.h5\n",
      "15/15 [==============================] - 18s 1s/step - loss: 0.5675 - accuracy: 0.7105 - val_loss: 0.5612 - val_accuracy: 0.7578\n",
      "Epoch 4/100\n",
      "14/15 [===========================>..] - ETA: 0s - loss: 0.5059 - accuracy: 0.7483\n",
      "Epoch 00004: val_loss improved from 0.56116 to 0.51293, saving model to vgg_model.h5\n",
      "15/15 [==============================] - 18s 1s/step - loss: 0.5109 - accuracy: 0.7463 - val_loss: 0.5129 - val_accuracy: 0.7812\n",
      "Epoch 5/100\n",
      "14/15 [===========================>..] - ETA: 0s - loss: 0.4674 - accuracy: 0.7735\n",
      "Epoch 00005: val_loss improved from 0.51293 to 0.47811, saving model to vgg_model.h5\n",
      "15/15 [==============================] - 18s 1s/step - loss: 0.4620 - accuracy: 0.7783 - val_loss: 0.4781 - val_accuracy: 0.8060\n",
      "Epoch 6/100\n",
      "14/15 [===========================>..] - ETA: 0s - loss: 0.4298 - accuracy: 0.8033\n",
      "Epoch 00006: val_loss improved from 0.47811 to 0.47664, saving model to vgg_model.h5\n",
      "15/15 [==============================] - 18s 1s/step - loss: 0.4266 - accuracy: 0.8056 - val_loss: 0.4766 - val_accuracy: 0.8112\n",
      "Epoch 7/100\n",
      "14/15 [===========================>..] - ETA: 0s - loss: 0.4071 - accuracy: 0.8159\n",
      "Epoch 00007: val_loss improved from 0.47664 to 0.40523, saving model to vgg_model.h5\n",
      "15/15 [==============================] - 18s 1s/step - loss: 0.4073 - accuracy: 0.8162 - val_loss: 0.4052 - val_accuracy: 0.8438\n",
      "Epoch 8/100\n",
      "14/15 [===========================>..] - ETA: 0s - loss: 0.4014 - accuracy: 0.8205\n",
      "Epoch 00008: val_loss improved from 0.40523 to 0.35508, saving model to vgg_model.h5\n",
      "15/15 [==============================] - 20s 1s/step - loss: 0.4049 - accuracy: 0.8152 - val_loss: 0.3551 - val_accuracy: 0.8581\n",
      "Epoch 9/100\n",
      "14/15 [===========================>..] - ETA: 0s - loss: 0.3709 - accuracy: 0.8452\n",
      "Epoch 00009: val_loss improved from 0.35508 to 0.34274, saving model to vgg_model.h5\n",
      "15/15 [==============================] - 20s 1s/step - loss: 0.3663 - accuracy: 0.8483 - val_loss: 0.3427 - val_accuracy: 0.8711\n",
      "Epoch 10/100\n",
      "14/15 [===========================>..] - ETA: 0s - loss: 0.3620 - accuracy: 0.8423\n",
      "Epoch 00010: val_loss improved from 0.34274 to 0.32674, saving model to vgg_model.h5\n",
      "15/15 [==============================] - 19s 1s/step - loss: 0.3625 - accuracy: 0.8419 - val_loss: 0.3267 - val_accuracy: 0.8711\n",
      "Epoch 11/100\n",
      "14/15 [===========================>..] - ETA: 0s - loss: 0.3338 - accuracy: 0.8515\n",
      "Epoch 00011: val_loss did not improve from 0.32674\n",
      "15/15 [==============================] - 16s 1s/step - loss: 0.3332 - accuracy: 0.8504 - val_loss: 0.3275 - val_accuracy: 0.8711\n",
      "Epoch 12/100\n",
      "14/15 [===========================>..] - ETA: 0s - loss: 0.3388 - accuracy: 0.8532\n",
      "Epoch 00012: val_loss improved from 0.32674 to 0.32078, saving model to vgg_model.h5\n",
      "15/15 [==============================] - 20s 1s/step - loss: 0.3394 - accuracy: 0.8504 - val_loss: 0.3208 - val_accuracy: 0.8750\n",
      "Epoch 13/100\n",
      "14/15 [===========================>..] - ETA: 0s - loss: 0.3250 - accuracy: 0.8635\n",
      "Epoch 00013: val_loss improved from 0.32078 to 0.30693, saving model to vgg_model.h5\n",
      "15/15 [==============================] - 19s 1s/step - loss: 0.3241 - accuracy: 0.8632 - val_loss: 0.3069 - val_accuracy: 0.8802\n",
      "Epoch 14/100\n",
      "14/15 [===========================>..] - ETA: 0s - loss: 0.3096 - accuracy: 0.8670\n",
      "Epoch 00014: val_loss improved from 0.30693 to 0.30372, saving model to vgg_model.h5\n",
      "15/15 [==============================] - 20s 1s/step - loss: 0.3037 - accuracy: 0.8697 - val_loss: 0.3037 - val_accuracy: 0.8815\n",
      "Epoch 15/100\n",
      "14/15 [===========================>..] - ETA: 0s - loss: 0.3240 - accuracy: 0.8618\n",
      "Epoch 00015: val_loss did not improve from 0.30372\n",
      "15/15 [==============================] - 17s 1s/step - loss: 0.3229 - accuracy: 0.8643 - val_loss: 0.3039 - val_accuracy: 0.8815\n",
      "Epoch 16/100\n",
      "14/15 [===========================>..] - ETA: 0s - loss: 0.2932 - accuracy: 0.8767\n",
      "Epoch 00016: val_loss did not improve from 0.30372\n",
      "15/15 [==============================] - 16s 1s/step - loss: 0.2940 - accuracy: 0.8761 - val_loss: 0.3054 - val_accuracy: 0.8776\n",
      "Epoch 17/100\n",
      "14/15 [===========================>..] - ETA: 0s - loss: 0.3006 - accuracy: 0.8681\n",
      "Epoch 00017: val_loss improved from 0.30372 to 0.29568, saving model to vgg_model.h5\n",
      "15/15 [==============================] - 20s 1s/step - loss: 0.2995 - accuracy: 0.8691 - val_loss: 0.2957 - val_accuracy: 0.8828\n",
      "Epoch 18/100\n",
      "14/15 [===========================>..] - ETA: 0s - loss: 0.2827 - accuracy: 0.8830\n",
      "Epoch 00018: val_loss improved from 0.29568 to 0.29350, saving model to vgg_model.h5\n",
      "15/15 [==============================] - 19s 1s/step - loss: 0.2896 - accuracy: 0.8793 - val_loss: 0.2935 - val_accuracy: 0.8815\n",
      "Epoch 19/100\n",
      "14/15 [===========================>..] - ETA: 0s - loss: 0.2955 - accuracy: 0.8721\n",
      "Epoch 00019: val_loss improved from 0.29350 to 0.29053, saving model to vgg_model.h5\n",
      "15/15 [==============================] - 19s 1s/step - loss: 0.2943 - accuracy: 0.8739 - val_loss: 0.2905 - val_accuracy: 0.8815\n",
      "Epoch 20/100\n",
      "14/15 [===========================>..] - ETA: 0s - loss: 0.2839 - accuracy: 0.8817\n",
      "Epoch 00020: val_loss improved from 0.29053 to 0.28935, saving model to vgg_model.h5\n",
      "15/15 [==============================] - 20s 1s/step - loss: 0.2861 - accuracy: 0.8807 - val_loss: 0.2894 - val_accuracy: 0.8854\n",
      "Epoch 21/100\n",
      "14/15 [===========================>..] - ETA: 0s - loss: 0.2805 - accuracy: 0.8834\n",
      "Epoch 00021: val_loss improved from 0.28935 to 0.28682, saving model to vgg_model.h5\n",
      "15/15 [==============================] - 21s 1s/step - loss: 0.2801 - accuracy: 0.8828 - val_loss: 0.2868 - val_accuracy: 0.8867\n",
      "Epoch 22/100\n",
      "14/15 [===========================>..] - ETA: 0s - loss: 0.2773 - accuracy: 0.8911\n",
      "Epoch 00022: val_loss improved from 0.28682 to 0.28600, saving model to vgg_model.h5\n",
      "15/15 [==============================] - 20s 1s/step - loss: 0.2777 - accuracy: 0.8916 - val_loss: 0.2860 - val_accuracy: 0.8867\n",
      "Epoch 23/100\n",
      "14/15 [===========================>..] - ETA: 0s - loss: 0.2639 - accuracy: 0.8939\n",
      "Epoch 00023: val_loss improved from 0.28600 to 0.28428, saving model to vgg_model.h5\n",
      "15/15 [==============================] - 19s 1s/step - loss: 0.2718 - accuracy: 0.8910 - val_loss: 0.2843 - val_accuracy: 0.8867\n",
      "Epoch 24/100\n",
      "14/15 [===========================>..] - ETA: 0s - loss: 0.2590 - accuracy: 0.9002\n",
      "Epoch 00024: val_loss improved from 0.28428 to 0.28291, saving model to vgg_model.h5\n",
      "15/15 [==============================] - 20s 1s/step - loss: 0.2623 - accuracy: 0.8969 - val_loss: 0.2829 - val_accuracy: 0.8906\n",
      "Epoch 25/100\n",
      "14/15 [===========================>..] - ETA: 0s - loss: 0.2558 - accuracy: 0.8962\n",
      "Epoch 00025: val_loss did not improve from 0.28291\n",
      "15/15 [==============================] - 17s 1s/step - loss: 0.2542 - accuracy: 0.8969 - val_loss: 0.2832 - val_accuracy: 0.8932\n",
      "Epoch 26/100\n",
      "14/15 [===========================>..] - ETA: 0s - loss: 0.2603 - accuracy: 0.8939\n",
      "Epoch 00026: val_loss did not improve from 0.28291\n",
      "15/15 [==============================] - 17s 1s/step - loss: 0.2590 - accuracy: 0.8958 - val_loss: 0.2836 - val_accuracy: 0.8828\n",
      "Epoch 27/100\n",
      "14/15 [===========================>..] - ETA: 0s - loss: 0.2450 - accuracy: 0.8968\n",
      "Epoch 00027: val_loss did not improve from 0.28291\n",
      "15/15 [==============================] - 17s 1s/step - loss: 0.2410 - accuracy: 0.8996 - val_loss: 0.2838 - val_accuracy: 0.8841\n"
     ]
    },
    {
     "name": "stdout",
     "output_type": "stream",
     "text": [
      "Epoch 28/100\n",
      "14/15 [===========================>..] - ETA: 0s - loss: 0.2588 - accuracy: 0.8923\n",
      "Epoch 00028: val_loss improved from 0.28291 to 0.28201, saving model to vgg_model.h5\n",
      "15/15 [==============================] - 20s 1s/step - loss: 0.2567 - accuracy: 0.8943 - val_loss: 0.2820 - val_accuracy: 0.8893\n",
      "Epoch 29/100\n",
      "14/15 [===========================>..] - ETA: 0s - loss: 0.2426 - accuracy: 0.9054\n",
      "Epoch 00029: val_loss improved from 0.28201 to 0.28062, saving model to vgg_model.h5\n",
      "15/15 [==============================] - 20s 1s/step - loss: 0.2408 - accuracy: 0.9054 - val_loss: 0.2806 - val_accuracy: 0.8932\n",
      "Epoch 30/100\n",
      "14/15 [===========================>..] - ETA: 0s - loss: 0.2485 - accuracy: 0.8979\n",
      "Epoch 00030: val_loss did not improve from 0.28062\n",
      "15/15 [==============================] - 17s 1s/step - loss: 0.2508 - accuracy: 0.8974 - val_loss: 0.2817 - val_accuracy: 0.8893\n",
      "Epoch 31/100\n",
      "14/15 [===========================>..] - ETA: 0s - loss: 0.2303 - accuracy: 0.9025\n",
      "Epoch 00031: val_loss improved from 0.28062 to 0.27990, saving model to vgg_model.h5\n",
      "15/15 [==============================] - 20s 1s/step - loss: 0.2341 - accuracy: 0.9006 - val_loss: 0.2799 - val_accuracy: 0.8880\n",
      "Epoch 32/100\n",
      "14/15 [===========================>..] - ETA: 0s - loss: 0.2397 - accuracy: 0.9065\n",
      "Epoch 00032: val_loss improved from 0.27990 to 0.27762, saving model to vgg_model.h5\n",
      "15/15 [==============================] - 19s 1s/step - loss: 0.2389 - accuracy: 0.9071 - val_loss: 0.2776 - val_accuracy: 0.8932\n",
      "Epoch 33/100\n",
      "14/15 [===========================>..] - ETA: 0s - loss: 0.2271 - accuracy: 0.9054\n",
      "Epoch 00033: val_loss improved from 0.27762 to 0.27612, saving model to vgg_model.h5\n",
      "15/15 [==============================] - 19s 1s/step - loss: 0.2289 - accuracy: 0.9049 - val_loss: 0.2761 - val_accuracy: 0.8906\n",
      "Epoch 34/100\n",
      "14/15 [===========================>..] - ETA: 0s - loss: 0.2312 - accuracy: 0.9054\n",
      "Epoch 00034: val_loss did not improve from 0.27612\n",
      "15/15 [==============================] - 17s 1s/step - loss: 0.2332 - accuracy: 0.9054 - val_loss: 0.2767 - val_accuracy: 0.8919\n",
      "Epoch 35/100\n",
      "14/15 [===========================>..] - ETA: 0s - loss: 0.2283 - accuracy: 0.9140\n",
      "Epoch 00035: val_loss did not improve from 0.27612\n",
      "15/15 [==============================] - 17s 1s/step - loss: 0.2298 - accuracy: 0.9129 - val_loss: 0.2803 - val_accuracy: 0.8932\n",
      "Epoch 36/100\n",
      "14/15 [===========================>..] - ETA: 0s - loss: 0.2176 - accuracy: 0.9123\n",
      "Epoch 00036: val_loss did not improve from 0.27612\n",
      "15/15 [==============================] - 17s 1s/step - loss: 0.2199 - accuracy: 0.9108 - val_loss: 0.2775 - val_accuracy: 0.8893\n",
      "Epoch 37/100\n",
      "14/15 [===========================>..] - ETA: 0s - loss: 0.2296 - accuracy: 0.9096\n",
      "Epoch 00037: val_loss improved from 0.27612 to 0.27601, saving model to vgg_model.h5\n",
      "15/15 [==============================] - 19s 1s/step - loss: 0.2303 - accuracy: 0.9099 - val_loss: 0.2760 - val_accuracy: 0.8906\n",
      "Epoch 38/100\n",
      "14/15 [===========================>..] - ETA: 0s - loss: 0.2173 - accuracy: 0.9169\n",
      "Epoch 00038: val_loss did not improve from 0.27601\n",
      "15/15 [==============================] - 17s 1s/step - loss: 0.2200 - accuracy: 0.9140 - val_loss: 0.2793 - val_accuracy: 0.8997\n",
      "Epoch 39/100\n",
      "14/15 [===========================>..] - ETA: 0s - loss: 0.2175 - accuracy: 0.9146\n",
      "Epoch 00039: val_loss did not improve from 0.27601\n",
      "15/15 [==============================] - 16s 1s/step - loss: 0.2186 - accuracy: 0.9151 - val_loss: 0.2817 - val_accuracy: 0.8958\n",
      "Epoch 40/100\n",
      "14/15 [===========================>..] - ETA: 0s - loss: 0.2281 - accuracy: 0.9042\n",
      "Epoch 00040: val_loss improved from 0.27601 to 0.27510, saving model to vgg_model.h5\n",
      "15/15 [==============================] - 19s 1s/step - loss: 0.2234 - accuracy: 0.9071 - val_loss: 0.2751 - val_accuracy: 0.8906\n",
      "Epoch 41/100\n",
      "14/15 [===========================>..] - ETA: 0s - loss: 0.2055 - accuracy: 0.9186\n",
      "Epoch 00041: val_loss did not improve from 0.27510\n",
      "15/15 [==============================] - 17s 1s/step - loss: 0.2041 - accuracy: 0.9188 - val_loss: 0.2798 - val_accuracy: 0.8893\n",
      "Epoch 42/100\n",
      "14/15 [===========================>..] - ETA: 0s - loss: 0.2162 - accuracy: 0.9094\n",
      "Epoch 00042: val_loss improved from 0.27510 to 0.26598, saving model to vgg_model.h5\n",
      "15/15 [==============================] - 20s 1s/step - loss: 0.2161 - accuracy: 0.9097 - val_loss: 0.2660 - val_accuracy: 0.8958\n",
      "Epoch 43/100\n",
      "14/15 [===========================>..] - ETA: 0s - loss: 0.2104 - accuracy: 0.9266\n",
      "Epoch 00043: val_loss improved from 0.26598 to 0.26208, saving model to vgg_model.h5\n",
      "15/15 [==============================] - 19s 1s/step - loss: 0.2095 - accuracy: 0.9263 - val_loss: 0.2621 - val_accuracy: 0.8984\n",
      "Epoch 44/100\n",
      "14/15 [===========================>..] - ETA: 0s - loss: 0.2068 - accuracy: 0.9214\n",
      "Epoch 00044: val_loss did not improve from 0.26208\n",
      "15/15 [==============================] - 17s 1s/step - loss: 0.2064 - accuracy: 0.9220 - val_loss: 0.2713 - val_accuracy: 0.8893\n",
      "Epoch 45/100\n",
      "14/15 [===========================>..] - ETA: 0s - loss: 0.1961 - accuracy: 0.9266\n",
      "Epoch 00045: val_loss did not improve from 0.26208\n",
      "15/15 [==============================] - 17s 1s/step - loss: 0.1929 - accuracy: 0.9284 - val_loss: 0.2693 - val_accuracy: 0.8971\n",
      "Epoch 46/100\n",
      "14/15 [===========================>..] - ETA: 0s - loss: 0.1878 - accuracy: 0.9300\n",
      "Epoch 00046: val_loss did not improve from 0.26208\n",
      "15/15 [==============================] - 17s 1s/step - loss: 0.1887 - accuracy: 0.9300 - val_loss: 0.2665 - val_accuracy: 0.8984\n",
      "Epoch 47/100\n",
      "14/15 [===========================>..] - ETA: 0s - loss: 0.1962 - accuracy: 0.9224\n",
      "Epoch 00047: val_loss did not improve from 0.26208\n",
      "15/15 [==============================] - 17s 1s/step - loss: 0.1967 - accuracy: 0.9229 - val_loss: 0.2684 - val_accuracy: 0.8958\n",
      "Epoch 48/100\n",
      "14/15 [===========================>..] - ETA: 0s - loss: 0.1860 - accuracy: 0.9278\n",
      "Epoch 00048: val_loss did not improve from 0.26208\n",
      "15/15 [==============================] - 17s 1s/step - loss: 0.1868 - accuracy: 0.9274 - val_loss: 0.2667 - val_accuracy: 0.8984\n",
      "Epoch 49/100\n",
      "14/15 [===========================>..] - ETA: 0s - loss: 0.1957 - accuracy: 0.9295\n",
      "Epoch 00049: val_loss did not improve from 0.26208\n",
      "15/15 [==============================] - 17s 1s/step - loss: 0.1968 - accuracy: 0.9290 - val_loss: 0.2662 - val_accuracy: 0.8932\n",
      "Epoch 50/100\n",
      "14/15 [===========================>..] - ETA: 0s - loss: 0.1956 - accuracy: 0.9280\n",
      "Epoch 00050: val_loss did not improve from 0.26208\n",
      "15/15 [==============================] - 17s 1s/step - loss: 0.1981 - accuracy: 0.9271 - val_loss: 0.2665 - val_accuracy: 0.8997\n",
      "Epoch 51/100\n",
      "14/15 [===========================>..] - ETA: 0s - loss: 0.1845 - accuracy: 0.9329\n",
      "Epoch 00051: val_loss did not improve from 0.26208\n",
      "15/15 [==============================] - 17s 1s/step - loss: 0.1832 - accuracy: 0.9332 - val_loss: 0.2672 - val_accuracy: 0.9036\n",
      "Epoch 52/100\n",
      "14/15 [===========================>..] - ETA: 0s - loss: 0.1855 - accuracy: 0.9300\n",
      "Epoch 00052: val_loss did not improve from 0.26208\n",
      "15/15 [==============================] - 17s 1s/step - loss: 0.1897 - accuracy: 0.9268 - val_loss: 0.2655 - val_accuracy: 0.9036\n",
      "Epoch 53/100\n",
      "14/15 [===========================>..] - ETA: 0s - loss: 0.1773 - accuracy: 0.9283\n",
      "Epoch 00053: val_loss did not improve from 0.26208\n",
      "15/15 [==============================] - 17s 1s/step - loss: 0.1776 - accuracy: 0.9290 - val_loss: 0.2764 - val_accuracy: 0.8984\n",
      "Epoch 54/100\n",
      "14/15 [===========================>..] - ETA: 0s - loss: 0.1658 - accuracy: 0.9438\n",
      "Epoch 00054: val_loss did not improve from 0.26208\n",
      "15/15 [==============================] - 17s 1s/step - loss: 0.1703 - accuracy: 0.9396 - val_loss: 0.2694 - val_accuracy: 0.9010\n",
      "Epoch 55/100\n",
      "14/15 [===========================>..] - ETA: 0s - loss: 0.1744 - accuracy: 0.9397\n",
      "Epoch 00055: val_loss did not improve from 0.26208\n",
      "15/15 [==============================] - 17s 1s/step - loss: 0.1718 - accuracy: 0.9396 - val_loss: 0.2785 - val_accuracy: 0.8867\n",
      "Epoch 56/100\n",
      "14/15 [===========================>..] - ETA: 0s - loss: 0.1782 - accuracy: 0.9295\n",
      "Epoch 00056: val_loss did not improve from 0.26208\n",
      "15/15 [==============================] - 17s 1s/step - loss: 0.1761 - accuracy: 0.9322 - val_loss: 0.2692 - val_accuracy: 0.8945\n"
     ]
    },
    {
     "name": "stdout",
     "output_type": "stream",
     "text": [
      "Epoch 57/100\n",
      "14/15 [===========================>..] - ETA: 0s - loss: 0.1807 - accuracy: 0.9318\n",
      "Epoch 00057: val_loss did not improve from 0.26208\n",
      "15/15 [==============================] - 17s 1s/step - loss: 0.1802 - accuracy: 0.9316 - val_loss: 0.2668 - val_accuracy: 0.8958\n",
      "Epoch 58/100\n",
      "14/15 [===========================>..] - ETA: 0s - loss: 0.1726 - accuracy: 0.9392\n",
      "Epoch 00058: val_loss did not improve from 0.26208\n",
      "15/15 [==============================] - 17s 1s/step - loss: 0.1752 - accuracy: 0.9375 - val_loss: 0.2666 - val_accuracy: 0.8997\n",
      "Epoch 59/100\n",
      "14/15 [===========================>..] - ETA: 0s - loss: 0.1810 - accuracy: 0.9329\n",
      "Epoch 00059: val_loss did not improve from 0.26208\n",
      "15/15 [==============================] - 17s 1s/step - loss: 0.1802 - accuracy: 0.9338 - val_loss: 0.2699 - val_accuracy: 0.8971\n",
      "Epoch 60/100\n",
      "14/15 [===========================>..] - ETA: 0s - loss: 0.1595 - accuracy: 0.9455\n",
      "Epoch 00060: val_loss did not improve from 0.26208\n",
      "15/15 [==============================] - 17s 1s/step - loss: 0.1617 - accuracy: 0.9444 - val_loss: 0.2705 - val_accuracy: 0.8958\n",
      "Epoch 61/100\n",
      "14/15 [===========================>..] - ETA: 0s - loss: 0.1698 - accuracy: 0.9404\n",
      "Epoch 00061: val_loss did not improve from 0.26208\n",
      "15/15 [==============================] - 17s 1s/step - loss: 0.1706 - accuracy: 0.9402 - val_loss: 0.2721 - val_accuracy: 0.9023\n",
      "Epoch 62/100\n",
      "14/15 [===========================>..] - ETA: 0s - loss: 0.1619 - accuracy: 0.9415\n",
      "Epoch 00062: val_loss did not improve from 0.26208\n",
      "15/15 [==============================] - 17s 1s/step - loss: 0.1591 - accuracy: 0.9434 - val_loss: 0.2682 - val_accuracy: 0.9049\n",
      "Epoch 63/100\n",
      "14/15 [===========================>..] - ETA: 0s - loss: 0.1720 - accuracy: 0.9386\n",
      "Epoch 00063: val_loss did not improve from 0.26208\n",
      "15/15 [==============================] - 17s 1s/step - loss: 0.1693 - accuracy: 0.9402 - val_loss: 0.2639 - val_accuracy: 0.8971\n",
      "Epoch 64/100\n",
      "14/15 [===========================>..] - ETA: 0s - loss: 0.1615 - accuracy: 0.9450\n",
      "Epoch 00064: val_loss did not improve from 0.26208\n",
      "15/15 [==============================] - 17s 1s/step - loss: 0.1649 - accuracy: 0.9423 - val_loss: 0.2694 - val_accuracy: 0.9010\n",
      "Epoch 65/100\n",
      "14/15 [===========================>..] - ETA: 0s - loss: 0.1653 - accuracy: 0.9352\n",
      "Epoch 00065: val_loss did not improve from 0.26208\n",
      "15/15 [==============================] - 17s 1s/step - loss: 0.1639 - accuracy: 0.9359 - val_loss: 0.2701 - val_accuracy: 0.8984\n",
      "Epoch 66/100\n",
      "14/15 [===========================>..] - ETA: 0s - loss: 0.1565 - accuracy: 0.9461\n",
      "Epoch 00066: val_loss did not improve from 0.26208\n",
      "15/15 [==============================] - 17s 1s/step - loss: 0.1588 - accuracy: 0.9450 - val_loss: 0.2680 - val_accuracy: 0.8958\n",
      "Epoch 67/100\n",
      "14/15 [===========================>..] - ETA: 0s - loss: 0.1463 - accuracy: 0.9444\n",
      "Epoch 00067: val_loss did not improve from 0.26208\n",
      "15/15 [==============================] - 15s 1s/step - loss: 0.1486 - accuracy: 0.9423 - val_loss: 0.2670 - val_accuracy: 0.8971\n",
      "Epoch 68/100\n",
      "14/15 [===========================>..] - ETA: 0s - loss: 0.1580 - accuracy: 0.9404\n",
      "Epoch 00068: val_loss did not improve from 0.26208\n",
      "15/15 [==============================] - 15s 1s/step - loss: 0.1575 - accuracy: 0.9423 - val_loss: 0.2645 - val_accuracy: 0.9010\n",
      "Epoch 69/100\n",
      "14/15 [===========================>..] - ETA: 0s - loss: 0.1607 - accuracy: 0.9415\n",
      "Epoch 00069: val_loss did not improve from 0.26208\n",
      "15/15 [==============================] - 15s 986ms/step - loss: 0.1586 - accuracy: 0.9423 - val_loss: 0.2641 - val_accuracy: 0.9023\n",
      "Epoch 70/100\n",
      "14/15 [===========================>..] - ETA: 0s - loss: 0.1629 - accuracy: 0.9461\n",
      "Epoch 00070: val_loss did not improve from 0.26208\n",
      "15/15 [==============================] - 15s 989ms/step - loss: 0.1605 - accuracy: 0.9482 - val_loss: 0.2702 - val_accuracy: 0.8945\n",
      "Epoch 71/100\n",
      "14/15 [===========================>..] - ETA: 0s - loss: 0.1510 - accuracy: 0.9467\n",
      "Epoch 00071: val_loss did not improve from 0.26208\n",
      "15/15 [==============================] - 15s 981ms/step - loss: 0.1524 - accuracy: 0.9466 - val_loss: 0.2687 - val_accuracy: 0.9023\n",
      "Epoch 72/100\n",
      "14/15 [===========================>..] - ETA: 0s - loss: 0.1392 - accuracy: 0.9530\n",
      "Epoch 00072: val_loss improved from 0.26208 to 0.26120, saving model to vgg_model.h5\n",
      "15/15 [==============================] - 19s 1s/step - loss: 0.1424 - accuracy: 0.9519 - val_loss: 0.2612 - val_accuracy: 0.9036\n",
      "Epoch 73/100\n",
      "14/15 [===========================>..] - ETA: 0s - loss: 0.1435 - accuracy: 0.9526\n",
      "Epoch 00073: val_loss did not improve from 0.26120\n",
      "15/15 [==============================] - 15s 993ms/step - loss: 0.1431 - accuracy: 0.9521 - val_loss: 0.2652 - val_accuracy: 0.9023\n",
      "Epoch 74/100\n",
      "14/15 [===========================>..] - ETA: 0s - loss: 0.1428 - accuracy: 0.9587\n",
      "Epoch 00074: val_loss did not improve from 0.26120\n",
      "15/15 [==============================] - 15s 972ms/step - loss: 0.1409 - accuracy: 0.9605 - val_loss: 0.2693 - val_accuracy: 0.8984\n",
      "Epoch 75/100\n",
      "14/15 [===========================>..] - ETA: 0s - loss: 0.1513 - accuracy: 0.9484\n",
      "Epoch 00075: val_loss did not improve from 0.26120\n",
      "15/15 [==============================] - 15s 974ms/step - loss: 0.1525 - accuracy: 0.9476 - val_loss: 0.2634 - val_accuracy: 0.9049\n",
      "Epoch 76/100\n",
      "14/15 [===========================>..] - ETA: 0s - loss: 0.1514 - accuracy: 0.9513\n",
      "Epoch 00076: val_loss did not improve from 0.26120\n",
      "15/15 [==============================] - 15s 968ms/step - loss: 0.1534 - accuracy: 0.9498 - val_loss: 0.2640 - val_accuracy: 0.9076\n",
      "Epoch 77/100\n",
      "14/15 [===========================>..] - ETA: 0s - loss: 0.1605 - accuracy: 0.9432\n",
      "Epoch 00077: val_loss did not improve from 0.26120\n",
      "15/15 [==============================] - 15s 1s/step - loss: 0.1578 - accuracy: 0.9455 - val_loss: 0.2617 - val_accuracy: 0.8984\n",
      "Epoch 78/100\n",
      "14/15 [===========================>..] - ETA: 0s - loss: 0.1443 - accuracy: 0.9467\n",
      "Epoch 00078: val_loss improved from 0.26120 to 0.26118, saving model to vgg_model.h5\n",
      "15/15 [==============================] - 17s 1s/step - loss: 0.1458 - accuracy: 0.9471 - val_loss: 0.2612 - val_accuracy: 0.9036\n",
      "Epoch 79/100\n",
      "14/15 [===========================>..] - ETA: 0s - loss: 0.1393 - accuracy: 0.9593\n",
      "Epoch 00079: val_loss did not improve from 0.26118\n",
      "15/15 [==============================] - 15s 1s/step - loss: 0.1383 - accuracy: 0.9594 - val_loss: 0.2652 - val_accuracy: 0.8945\n",
      "Epoch 80/100\n",
      "14/15 [===========================>..] - ETA: 0s - loss: 0.1384 - accuracy: 0.9547\n",
      "Epoch 00080: val_loss did not improve from 0.26118\n",
      "15/15 [==============================] - 15s 977ms/step - loss: 0.1411 - accuracy: 0.9530 - val_loss: 0.2656 - val_accuracy: 0.9023\n",
      "Epoch 81/100\n",
      "14/15 [===========================>..] - ETA: 0s - loss: 0.1389 - accuracy: 0.9530\n",
      "Epoch 00081: val_loss did not improve from 0.26118\n",
      "15/15 [==============================] - 15s 980ms/step - loss: 0.1395 - accuracy: 0.9525 - val_loss: 0.2629 - val_accuracy: 0.8997\n",
      "Epoch 82/100\n",
      "14/15 [===========================>..] - ETA: 0s - loss: 0.1422 - accuracy: 0.9513\n",
      "Epoch 00082: val_loss improved from 0.26118 to 0.25873, saving model to vgg_model.h5\n",
      "15/15 [==============================] - 18s 1s/step - loss: 0.1420 - accuracy: 0.9519 - val_loss: 0.2587 - val_accuracy: 0.9049\n",
      "Epoch 83/100\n",
      "14/15 [===========================>..] - ETA: 0s - loss: 0.1386 - accuracy: 0.9553\n",
      "Epoch 00083: val_loss did not improve from 0.25873\n",
      "15/15 [==============================] - 15s 1s/step - loss: 0.1379 - accuracy: 0.9557 - val_loss: 0.2613 - val_accuracy: 0.8997\n",
      "Epoch 84/100\n",
      "14/15 [===========================>..] - ETA: 0s - loss: 0.1265 - accuracy: 0.9633\n",
      "Epoch 00084: val_loss improved from 0.25873 to 0.25698, saving model to vgg_model.h5\n",
      "15/15 [==============================] - 17s 1s/step - loss: 0.1267 - accuracy: 0.9642 - val_loss: 0.2570 - val_accuracy: 0.9023\n",
      "Epoch 85/100\n",
      "14/15 [===========================>..] - ETA: 0s - loss: 0.1324 - accuracy: 0.9541\n",
      "Epoch 00085: val_loss did not improve from 0.25698\n",
      "15/15 [==============================] - 14s 962ms/step - loss: 0.1321 - accuracy: 0.9535 - val_loss: 0.2633 - val_accuracy: 0.9036\n",
      "Epoch 86/100\n"
     ]
    },
    {
     "name": "stdout",
     "output_type": "stream",
     "text": [
      "14/15 [===========================>..] - ETA: 0s - loss: 0.1203 - accuracy: 0.9639\n",
      "Epoch 00086: val_loss did not improve from 0.25698\n",
      "15/15 [==============================] - 14s 960ms/step - loss: 0.1210 - accuracy: 0.9631 - val_loss: 0.2682 - val_accuracy: 0.9010\n",
      "Epoch 87/100\n",
      "14/15 [===========================>..] - ETA: 0s - loss: 0.1229 - accuracy: 0.9587\n",
      "Epoch 00087: val_loss did not improve from 0.25698\n",
      "15/15 [==============================] - 14s 955ms/step - loss: 0.1242 - accuracy: 0.9573 - val_loss: 0.2615 - val_accuracy: 0.9010\n",
      "Epoch 88/100\n",
      "14/15 [===========================>..] - ETA: 0s - loss: 0.1426 - accuracy: 0.9450\n",
      "Epoch 00088: val_loss did not improve from 0.25698\n",
      "15/15 [==============================] - 14s 962ms/step - loss: 0.1408 - accuracy: 0.9466 - val_loss: 0.2658 - val_accuracy: 0.8984\n",
      "Epoch 89/100\n",
      "14/15 [===========================>..] - ETA: 0s - loss: 0.1309 - accuracy: 0.9581\n",
      "Epoch 00089: val_loss did not improve from 0.25698\n",
      "15/15 [==============================] - 15s 967ms/step - loss: 0.1314 - accuracy: 0.9573 - val_loss: 0.2717 - val_accuracy: 0.8984\n",
      "Epoch 90/100\n",
      "14/15 [===========================>..] - ETA: 0s - loss: 0.1272 - accuracy: 0.9650\n",
      "Epoch 00090: val_loss did not improve from 0.25698\n",
      "15/15 [==============================] - 14s 963ms/step - loss: 0.1274 - accuracy: 0.9658 - val_loss: 0.2662 - val_accuracy: 0.9049\n",
      "Epoch 91/100\n",
      "14/15 [===========================>..] - ETA: 0s - loss: 0.1254 - accuracy: 0.9627\n",
      "Epoch 00091: val_loss did not improve from 0.25698\n",
      "15/15 [==============================] - 14s 963ms/step - loss: 0.1256 - accuracy: 0.9631 - val_loss: 0.2618 - val_accuracy: 0.9036\n",
      "Epoch 92/100\n",
      "14/15 [===========================>..] - ETA: 0s - loss: 0.1199 - accuracy: 0.9599\n",
      "Epoch 00092: val_loss did not improve from 0.25698\n",
      "15/15 [==============================] - 14s 961ms/step - loss: 0.1230 - accuracy: 0.9583 - val_loss: 0.2582 - val_accuracy: 0.9049\n",
      "Epoch 93/100\n",
      "14/15 [===========================>..] - ETA: 0s - loss: 0.1173 - accuracy: 0.9662\n",
      "Epoch 00093: val_loss did not improve from 0.25698\n",
      "15/15 [==============================] - 15s 977ms/step - loss: 0.1178 - accuracy: 0.9669 - val_loss: 0.2747 - val_accuracy: 0.9076\n",
      "Epoch 94/100\n",
      "14/15 [===========================>..] - ETA: 0s - loss: 0.1248 - accuracy: 0.9604\n",
      "Epoch 00094: val_loss did not improve from 0.25698\n",
      "15/15 [==============================] - 14s 958ms/step - loss: 0.1266 - accuracy: 0.9589 - val_loss: 0.2661 - val_accuracy: 0.9036\n",
      "Epoch 95/100\n",
      "14/15 [===========================>..] - ETA: 0s - loss: 0.1192 - accuracy: 0.9644\n",
      "Epoch 00095: val_loss did not improve from 0.25698\n",
      "15/15 [==============================] - 14s 966ms/step - loss: 0.1185 - accuracy: 0.9637 - val_loss: 0.2630 - val_accuracy: 0.9010\n",
      "Epoch 96/100\n",
      "14/15 [===========================>..] - ETA: 0s - loss: 0.1265 - accuracy: 0.9541\n",
      "Epoch 00096: val_loss did not improve from 0.25698\n",
      "15/15 [==============================] - 14s 962ms/step - loss: 0.1263 - accuracy: 0.9551 - val_loss: 0.2580 - val_accuracy: 0.9010\n",
      "Epoch 97/100\n",
      "14/15 [===========================>..] - ETA: 0s - loss: 0.1125 - accuracy: 0.9633\n",
      "Epoch 00097: val_loss did not improve from 0.25698\n",
      "15/15 [==============================] - 14s 957ms/step - loss: 0.1143 - accuracy: 0.9631 - val_loss: 0.2597 - val_accuracy: 0.9023\n",
      "Epoch 98/100\n",
      "14/15 [===========================>..] - ETA: 0s - loss: 0.1211 - accuracy: 0.9627\n",
      "Epoch 00098: val_loss did not improve from 0.25698\n",
      "15/15 [==============================] - 14s 958ms/step - loss: 0.1240 - accuracy: 0.9621 - val_loss: 0.2646 - val_accuracy: 0.9023\n",
      "Epoch 99/100\n",
      "14/15 [===========================>..] - ETA: 0s - loss: 0.1140 - accuracy: 0.9639\n",
      "Epoch 00099: val_loss did not improve from 0.25698\n",
      "15/15 [==============================] - 15s 973ms/step - loss: 0.1148 - accuracy: 0.9626 - val_loss: 0.2581 - val_accuracy: 0.9102\n",
      "Epoch 100/100\n",
      "14/15 [===========================>..] - ETA: 0s - loss: 0.1166 - accuracy: 0.9604\n",
      "Epoch 00100: val_loss did not improve from 0.25698\n",
      "15/15 [==============================] - 14s 949ms/step - loss: 0.1141 - accuracy: 0.9626 - val_loss: 0.2616 - val_accuracy: 0.9062\n"
     ]
    }
   ],
   "source": [
    "history = model.fit(\n",
    "        train_generator,\n",
    "        steps_per_epoch=train_steps,\n",
    "        epochs=100,\n",
    "        validation_data=test_generator,\n",
    "        validation_steps=test_steps,\n",
    "        verbose=1,\n",
    "        callbacks=[checkpointer])"
   ]
  },
  {
   "cell_type": "code",
   "execution_count": 11,
   "metadata": {},
   "outputs": [
    {
     "data": {
      "text/plain": [
       "<matplotlib.legend.Legend at 0x287045fefc8>"
      ]
     },
     "execution_count": 11,
     "metadata": {},
     "output_type": "execute_result"
    },
    {
     "data": {
      "image/png": "[encoded data removed]",
      "text/plain": [
       "<Figure size 432x288 with 1 Axes>"
      ]
     },
     "metadata": {
      "needs_background": "light"
     },
     "output_type": "display_data"
    }
   ],
   "source": [
    "import matplotlib.pyplot as plt\n",
    "\n",
    "loss     = history.history['loss']\n",
    "val_loss = history.history['val_loss']\n",
    "\n",
    "plt.plot(loss, label='loss')\n",
    "plt.plot(val_loss, label='val_loss')\n",
    "plt.title('Training and validation loss')\n",
    "plt.legend()"
   ]
  },
  {
   "cell_type": "code",
   "execution_count": 12,
   "metadata": {},
   "outputs": [
    {
     "data": {
      "text/plain": [
       "<matplotlib.legend.Legend at 0x287046bdb88>"
      ]
     },
     "execution_count": 12,
     "metadata": {},
     "output_type": "execute_result"
    },
    {
     "data": {
      "image/png": "[encoded data removed]",
      "text/plain": [
       "<Figure size 432x288 with 1 Axes>"
      ]
     },
     "metadata": {
      "needs_background": "light"
     },
     "output_type": "display_data"
    }
   ],
   "source": [
    "accuracy      = history.history['accuracy']\n",
    "val_accuracy  = history.history['val_accuracy']\n",
    "\n",
    "plt.plot(accuracy, label='accuracy')\n",
    "plt.plot(val_accuracy, label='val_accuracy')\n",
    "plt.title('Training and validation accuracy')\n",
    "plt.legend()"
   ]
  },
  {
   "cell_type": "markdown",
   "metadata": {},
   "source": [
    "## Test model"
   ]
  },
  {
   "cell_type": "code",
   "execution_count": 13,
   "metadata": {},
   "outputs": [
    {
     "name": "stdout",
     "output_type": "stream",
     "text": [
      "WARNING:tensorflow:sample_weight modes were coerced from\n",
      "  ...\n",
      "    to  \n",
      "  ['...']\n",
      "6/6 [==============================] - 3s 581ms/step - loss: 0.2616 - accuracy: 0.9062\n"
     ]
    },
    {
     "data": {
      "text/plain": [
       "[0.2615804026524226, 0.90625]"
      ]
     },
     "execution_count": 13,
     "metadata": {},
     "output_type": "execute_result"
    }
   ],
   "source": [
    "model.evaluate(test_generator, verbose=1, steps=test_steps)"
   ]
  },
  {
   "cell_type": "code",
   "execution_count": 14,
   "metadata": {},
   "outputs": [
    {
     "data": {
      "text/plain": [
       "{'hot dog': 0, 'not hot dog': 1}"
      ]
     },
     "execution_count": 14,
     "metadata": {},
     "output_type": "execute_result"
    }
   ],
   "source": [
    "train_generator.class_indices"
   ]
  },
  {
   "cell_type": "code",
   "execution_count": 15,
   "metadata": {},
   "outputs": [
    {
     "data": {
      "text/plain": [
       "array([[1]])"
      ]
     },
     "execution_count": 15,
     "metadata": {},
     "output_type": "execute_result"
    }
   ],
   "source": [
    "import numpy as np\n",
    "from tensorflow.keras.preprocessing import image\n",
    "from tensorflow.keras.models import load_model\n",
    "\n",
    "image_width, image_height = 150, 150\n",
    "\n",
    "img = image.load_img('new_test_images/4.jpg', target_size=(image_width, image_height))\n",
    "img = image.img_to_array(img)\n",
    "img = np.expand_dims(img, axis = 0)\n",
    "img = preprocess_input(img)\n",
    "model = load_model('vgg_model.h5')\n",
    "model.predict_classes(img)"
   ]
  },
  {
   "cell_type": "markdown",
   "metadata": {},
   "source": [
    "## Save model"
   ]
  },
  {
   "cell_type": "code",
   "execution_count": 16,
   "metadata": {},
   "outputs": [],
   "source": [
    "model.save('vgg_model.h5')"
   ]
  },
  {
   "cell_type": "code",
   "execution_count": null,
   "metadata": {},
   "outputs": [],
   "source": []
  }
 ],
 "metadata": {
  "kernelspec": {
   "display_name": "Tensorflow GPU",
   "language": "python",
   "name": "tensorflow"
  },
  "language_info": {
   "codemirror_mode": {
    "name": "ipython",
    "version": 3
   },
   "file_extension": ".py",
   "mimetype": "text/x-python",
   "name": "python",
   "nbconvert_exporter": "python",
   "pygments_lexer": "ipython3",
   "version": "3.7.6"
  }
 },
 "nbformat": 4,
 "nbformat_minor": 4
}
